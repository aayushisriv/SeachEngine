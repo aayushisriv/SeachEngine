{
 "cells": [
  {
   "cell_type": "code",
   "execution_count": 6,
   "metadata": {},
   "outputs": [],
   "source": [
    "%matplotlib inline\n",
    "import glob\n",
    "from sklearn.naive_bayes import MultinomialNB\n",
    "import re\n",
    "import matplotlib\n",
    "import numpy as np\n",
    "import matplotlib.pyplot as plt\n",
    "import pandas as pd\n",
    "from sklearn.model_selection import StratifiedShuffleSplit\n",
    "from sklearn.model_selection import GridSearchCV\n",
    "from sklearn.pipeline import Pipeline\n",
    "from sklearn.multiclass import OneVsRestClassifier\n",
    "from sklearn.feature_extraction.text import TfidfVectorizer\n",
    "from sklearn.svm import LinearSVC\n",
    "from sklearn.linear_model import LogisticRegression\n",
    "from nltk import sent_tokenize\n",
    "from nltk import pos_tag\n",
    "from nltk import map_tag\n",
    "from sklearn.metrics import classification_report\n",
    "from nltk import word_tokenize\n",
    "from nltk.corpus import stopwords\n",
    "from sklearn.decomposition import PCA\n",
    "from sklearn.manifold import TSNE\n",
    "from sklearn.cluster import KMeans \n",
    "import pylab as pl\n",
    "from sklearn.neighbors import KNeighborsClassifier\n",
    "from sklearn.model_selection import KFold\n",
    "from matplotlib.colors import ListedColormap\n",
    "from sklearn.metrics import confusion_matrix\n",
    "stop_words = set(stopwords.words('english'))\n"
   ]
  },
  {
   "cell_type": "code",
   "execution_count": 3,
   "metadata": {},
   "outputs": [],
   "source": [
    "allFiles = glob.glob(\"C:\\*.txt\")#get the paper names,matching text files"
   ]
  },
  {
   "cell_type": "code",
   "execution_count": 4,
   "metadata": {},
   "outputs": [
    {
     "name": "stdout",
     "output_type": "stream",
     "text": [
      "['C:\\\\icse_id.txt', 'C:\\\\vldb_id.txt']\n"
     ]
    }
   ],
   "source": [
    "print(allFiles)"
   ]
  },
  {
   "cell_type": "code",
   "execution_count": 7,
   "metadata": {},
   "outputs": [],
   "source": [
    "frame = pd.DataFrame()\n",
    "list_ = []\n",
    "for file_ in allFiles:\n",
    "    df = pd.read_csv(file_,delimiter='\\t')\n",
    "    df.columns = ['id','title','title_small','year','date','unnamed','conference','conference_short','reference1','reference2','reference3']\n",
    "    list_.append(df)\n",
    "frame = pd.concat(list_)"
   ]
  },
  {
   "cell_type": "code",
   "execution_count": 8,
   "metadata": {},
   "outputs": [
    {
     "name": "stdout",
     "output_type": "stream",
     "text": [
      "            id                                              title  \\\n",
      "0     766984B4          Co-Operative Method Development revisited   \n",
      "1     7F5DB806             An integrated bug processing framework   \n",
      "2     78F1E9FF  Guest Editorial: Introduction to the Special S...   \n",
      "3     7D6EB553  Optimizing symbolic model checking for statech...   \n",
      "4     7FBCB0CC    Supporting search for reusable software objects   \n",
      "5     790C5919  Identification of dynamic comprehension proces...   \n",
      "6     7FEC4901  Completeness and consistency in hierarchical s...   \n",
      "7     76B250FB  Guest editors' introduction: 1999 internationa...   \n",
      "8     777166C0  Effectiveness Evaluation of Command and Contro...   \n",
      "9     7B1A023C  Cloudlet-based cyber-foraging for mobile syste...   \n",
      "10    7B583E24         An operating system development: Windows 3   \n",
      "11    7811B21C  Representing Unique Stakeholder Perspectives i...   \n",
      "12    7E90C370  Specification patterns from research to indust...   \n",
      "13    8553A067  Automated Energy Optimization of HTTP Requests...   \n",
      "14    7635A59A  The improvement of GAC model for image segment...   \n",
      "15    7D1BC7D0            Generative techniques for product lines   \n",
      "16    7D8A0D37  Modular-Like Transformations and Style Checkin...   \n",
      "17    817DF2C7  The universal design solution for Ajax-based t...   \n",
      "18    79CD68C3                     Service-Oriented Message Queue   \n",
      "19    7E611FAE  Semi-automatically extracting FAQs to improve ...   \n",
      "20    80036B58  Calculating architectural reliability via mode...   \n",
      "21    7D8A0202  Summary for scrutinizing agile practices or sh...   \n",
      "22    7FFFB0C7  Reengineering analysis of object-oriented syst...   \n",
      "23    7EAE63BC  Enhancing program readability and comprehensib...   \n",
      "24    7B094121  A specification-based adaptive test case gener...   \n",
      "25    0C038917  Ontology for complex railway systems applicati...   \n",
      "26    7D9E60BF  Modular modelling of software product lines wi...   \n",
      "27    7945747F  Code Generation on Steroids: Enhancing COTS Co...   \n",
      "28    7A340F2C  The SCR method for formally specifying, verify...   \n",
      "29    7A42BE3A  Combining mastery learning with project-based ...   \n",
      "...        ...                                                ...   \n",
      "4293  0A36043B  Dan Suciu: Declarative Specification of Web Si...   \n",
      "4294  7F3E3FD2  Distinct Sampling for Highly-Accurate Answers ...   \n",
      "4295  058FF590             Coexistence and transformation of data   \n",
      "4296  5D999AE0  Commutativity and its role in the processing o...   \n",
      "4297  5D32807D              Semantic Data Caching and Replacement   \n",
      "4298  5D4B8B24  Selectivity Estimation in Extensible Databases...   \n",
      "4299  5E0E7E2E  Data Abstraction, Databases and Conceptual Mod...   \n",
      "4300  050A1BCA    Semantics vs. graphics - to show or not to show   \n",
      "4301  5F7AC1B9  Hash Joins and Hash Teams in Microsoft SQL Server   \n",
      "4302  5F5B8438  MARS: a system for publishing XML from mixed a...   \n",
      "4303  80F2069D  Detecting anomalous access patterns in relatio...   \n",
      "4304  80BF4FCC                          Type-based XML projection   \n",
      "4305  811116A9  Minimizing The I/O-Operations For Undo-Logging...   \n",
      "4306  5EBDCB26  Diag-Join: An Opportunistic Join Algorithm for...   \n",
      "4307  810B734A                          Sorting networks on FPGAs   \n",
      "4308  5F826E54  A family of incomplete relational database models   \n",
      "4309  02515A15  The Impact of New Technologies on the Architec...   \n",
      "4310  5F37FB69      On the marriage of Lp-norms and edit distance   \n",
      "4311  5FBB44B8  A Study of Sort Algorithms for Multiprocessor ...   \n",
      "4312  5EE4DAD6            Characteristics of Scientific Databases   \n",
      "4313  75D8F205  UnQL: a query language and algebra for semistr...   \n",
      "4314  053155E6                  A DBS Platform for Bioinformatics   \n",
      "4315  58AF95BD  COMBI-operator - database support for data min...   \n",
      "4316  5B1F0442  A Theory of Timestamp-Based Concurrency Contro...   \n",
      "4317  0694FCE4  Rajeev Rastogi: RE-Tree: An Efficient Index St...   \n",
      "4318  59AFE526  Panel: Future Directions of Database Research ...   \n",
      "4319  7CA3A7CF  On the encipherment of search trees and random...   \n",
      "4320  78572C5C  ACM transactions on database systems: aim and ...   \n",
      "4321  7F97FCF2  The entity-relationship model—toward a unified...   \n",
      "4322  8170089D                Data Integration Using Web Services   \n",
      "\n",
      "                                            title_small  year        date  \\\n",
      "0             co operative method development revisited  2005  2005/05/16   \n",
      "1                an integrated bug processing framework  2012  2012/06/02   \n",
      "2     guest editorial introduction to the special se...  1998  1998/09/01   \n",
      "3     optimizing symbolic model checking for statech...  2001     2001/02   \n",
      "4       supporting search for reusable software objects  1996     1996/06   \n",
      "5     identification of dynamic comprehension proces...  1996     1996/06   \n",
      "6     completeness and consistency in hierarchical s...  1996     1996/06   \n",
      "7     guest editors introduction 1999 international ...  2001     2001/02   \n",
      "8     effectiveness evaluation of command and contro...  2014  2014/03/27   \n",
      "9     cloudlet based cyber foraging for mobile syste...  2014  2014/05/31   \n",
      "10            an operating system development windows 3  1996  1996/05/01   \n",
      "11    representing unique stakeholder perspectives i...  2010     2010/05   \n",
      "12    specification patterns from research to indust...  2012  2012/06/02   \n",
      "13    automated energy optimization of http requests...  2016        2016   \n",
      "14    the improvement of gac model for image segment...  2013     2013/05   \n",
      "15              generative techniques for product lines  2001  2001/07/01   \n",
      "16    modular like transformations and style checkin...  2007  2007/05/20   \n",
      "17    the universal design solution for ajax based t...  2015     2015/09   \n",
      "18                       service oriented message queue  2014  2014/03/27   \n",
      "19    semi automatically extracting faqs to improve ...  2012  2012/06/02   \n",
      "20    calculating architectural reliability via mode...  2004  2004/05/23   \n",
      "21    summary for scrutinizing agile practices or sh...  2008  2008/05/10   \n",
      "22    reengineering analysis of object oriented syst...  2001  2001/07/01   \n",
      "23    enhancing program readability and comprehensib...  1988  1988/04/01   \n",
      "24    a specification based adaptive test case gener...  1996  1996/05/01   \n",
      "25    ontology for complex railway systems applicati...  2013        2013   \n",
      "26    modular modelling of software product lines wi...  2011  2011/11/14   \n",
      "27    code generation on steroids enhancing cots cod...  2007  2007/05/20   \n",
      "28    the scr method for formally specifying verifyi...  1997  1997/05/01   \n",
      "29    combining mastery learning with project based ...  2015  2015/05/16   \n",
      "...                                                 ...   ...         ...   \n",
      "4293  dan suciu declarative specification of web sit...  2000         NaN   \n",
      "4294  distinct sampling for highly accurate answers ...  2001  2001/09/11   \n",
      "4295             coexistence and transformation of data  1977  1977/10/06   \n",
      "4296  commutativity and its role in the processing o...  1989  1989/07/01   \n",
      "4297              semantic data caching and replacement  1996  1996/09/03   \n",
      "4298  selectivity estimation in extensible databases...  1998  1998/08/24   \n",
      "4299  data abstraction databases and conceptual mode...  1980         NaN   \n",
      "4300       semantics vs graphics to show or not to show  1980  1980/10/01   \n",
      "4301  hash joins and hash teams in microsoft sql server  1998  1998/08/24   \n",
      "4302  mars a system for publishing xml from mixed an...  2003  2003/09/09   \n",
      "4303  detecting anomalous access patterns in relatio...  2008  2008/08/01   \n",
      "4304                          type based xml projection  2006  2006/09/01   \n",
      "4305  minimizing the i o operations for undo logging...  1979        1979   \n",
      "4306  diag join an opportunistic join algorithm for ...  1998  1998/08/24   \n",
      "4307                          sorting networks on fpgas  2012  2012/02/01   \n",
      "4308  a family of incomplete relational database models  1989  1989/07/01   \n",
      "4309  the impact of new technologies on the architec...  1978         NaN   \n",
      "4310      on the marriage of lp norms and edit distance  2004  2004/08/31   \n",
      "4311  a study of sort algorithms for multiprocessor ...  1986  1986/08/25   \n",
      "4312            characteristics of scientific databases  1984  1984/08/27   \n",
      "4313  unql a query language and algebra for semistru...  2000  2000/03/01   \n",
      "4314                  a dbs platform for bioinformatics  2000         NaN   \n",
      "4315  combi operator database support for data minin...  2003  2003/09/09   \n",
      "4316  a theory of timestamp based concurrency contro...  1988  1988/08/29   \n",
      "4317  rajeev rastogi re tree an efficient index stru...  2002         NaN   \n",
      "4318  panel future directions of database research t...  2000  2000/09/10   \n",
      "4319  on the encipherment of search trees and random...  1976  1976/03/01   \n",
      "4320  acm transactions on database systems aim and s...  1976  1976/03/01   \n",
      "4321  the entity relationship model toward a unified...  1976  1976/03/01   \n",
      "4322                data integration using web services  2003  2003/01/01   \n",
      "\n",
      "                               unnamed  \\\n",
      "0                                  NaN   \n",
      "1            10.1109/ICSE.2012.6227060   \n",
      "2                                  NaN   \n",
      "3                    10.1109/32.908961   \n",
      "4                    10.1109/32.508314   \n",
      "5                    10.1109/32.508315   \n",
      "6                    10.1109/32.508311   \n",
      "7              10.1109/TSE.2001.908956   \n",
      "8                                  NaN   \n",
      "9              10.1145/2591062.2591119   \n",
      "10                                 NaN   \n",
      "11                10.1109/SERA.2010.16   \n",
      "12           10.1109/ICSE.2012.6227125   \n",
      "13                                 NaN   \n",
      "14         10.1109/ICSESS.2013.6615480   \n",
      "15            10.1109/ICSE.2001.919165   \n",
      "16       10.1109/ICSECOMPANION.2007.55   \n",
      "17                                 NaN   \n",
      "18                                 NaN   \n",
      "19                                 NaN   \n",
      "20           10.1109/ICSE.2004.1317426   \n",
      "21             10.1145/1370175.1370232   \n",
      "22            10.1109/ICSE.2001.919132   \n",
      "23             10.1109/ICSE.1988.93716   \n",
      "24            10.1109/ICSE.1996.493404   \n",
      "25                                 NaN   \n",
      "26        10.1007/978-3-642-24690-6_22   \n",
      "27                                 NaN   \n",
      "28            10.1109/ICSE.1997.610430   \n",
      "29                                 NaN   \n",
      "...                                ...   \n",
      "4293                               NaN   \n",
      "4294                               NaN   \n",
      "4295                               NaN   \n",
      "4296                               NaN   \n",
      "4297                               NaN   \n",
      "4298                               NaN   \n",
      "4299                               NaN   \n",
      "4300                               NaN   \n",
      "4301                               NaN   \n",
      "4302  10.1016/B978-012722442-8/50026-4   \n",
      "4303         10.1007/s00778-007-0051-4   \n",
      "4304                               NaN   \n",
      "4305                               NaN   \n",
      "4306                               NaN   \n",
      "4307         10.1007/s00778-011-0232-z   \n",
      "4308                               NaN   \n",
      "4309                               NaN   \n",
      "4310                               NaN   \n",
      "4311                               NaN   \n",
      "4312                               NaN   \n",
      "4313                               NaN   \n",
      "4314                               NaN   \n",
      "4315  10.1016/B978-012722442-8/50045-8   \n",
      "4316                               NaN   \n",
      "4317                               NaN   \n",
      "4318                               NaN   \n",
      "4319             10.1145/320434.320445   \n",
      "4320                               NaN   \n",
      "4321             10.1145/320434.320440   \n",
      "4322          10.1007/3-540-36556-7_15   \n",
      "\n",
      "                                            conference conference_short  \\\n",
      "0     international conference on software engineering             icse   \n",
      "1     international conference on software engineering             icse   \n",
      "2     international conference on software engineering             icse   \n",
      "3     international conference on software engineering             icse   \n",
      "4     international conference on software engineering             icse   \n",
      "5     international conference on software engineering             icse   \n",
      "6     international conference on software engineering             icse   \n",
      "7     international conference on software engineering             icse   \n",
      "8     international conference on software engineering             icse   \n",
      "9     international conference on software engineering             icse   \n",
      "10    international conference on software engineering             icse   \n",
      "11    international conference on software engineering             icse   \n",
      "12    international conference on software engineering             icse   \n",
      "13    international conference on software engineering             icse   \n",
      "14    international conference on software engineering             icse   \n",
      "15    international conference on software engineering             icse   \n",
      "16    international conference on software engineering             icse   \n",
      "17    international conference on software engineering             icse   \n",
      "18    international conference on software engineering             icse   \n",
      "19    international conference on software engineering             icse   \n",
      "20    international conference on software engineering             icse   \n",
      "21    international conference on software engineering             icse   \n",
      "22    international conference on software engineering             icse   \n",
      "23    international conference on software engineering             icse   \n",
      "24    international conference on software engineering             icse   \n",
      "25    international conference on software engineering             icse   \n",
      "26    international conference on software engineering             icse   \n",
      "27    international conference on software engineering             icse   \n",
      "28    international conference on software engineering             icse   \n",
      "29    international conference on software engineering             icse   \n",
      "...                                                ...              ...   \n",
      "4293                             very large data bases             vldb   \n",
      "4294                             very large data bases             vldb   \n",
      "4295                             very large data bases             vldb   \n",
      "4296                             very large data bases             vldb   \n",
      "4297                             very large data bases             vldb   \n",
      "4298                             very large data bases             vldb   \n",
      "4299                             very large data bases             vldb   \n",
      "4300                             very large data bases             vldb   \n",
      "4301                             very large data bases             vldb   \n",
      "4302                             very large data bases             vldb   \n",
      "4303                             very large data bases             vldb   \n",
      "4304                             very large data bases             vldb   \n",
      "4305                             very large data bases             vldb   \n",
      "4306                             very large data bases             vldb   \n",
      "4307                             very large data bases             vldb   \n",
      "4308                             very large data bases             vldb   \n",
      "4309                             very large data bases             vldb   \n",
      "4310                             very large data bases             vldb   \n",
      "4311                             very large data bases             vldb   \n",
      "4312                             very large data bases             vldb   \n",
      "4313                             very large data bases             vldb   \n",
      "4314                             very large data bases             vldb   \n",
      "4315                             very large data bases             vldb   \n",
      "4316                             very large data bases             vldb   \n",
      "4317                             very large data bases             vldb   \n",
      "4318                             very large data bases             vldb   \n",
      "4319                             very large data bases             vldb   \n",
      "4320                             very large data bases             vldb   \n",
      "4321                             very large data bases             vldb   \n",
      "4322                             very large data bases             vldb   \n",
      "\n",
      "     reference1 reference2  reference3  \n",
      "0      0B24320F   45FFFB88       19176  \n",
      "1      0A0407AE   45FFFB88       19555  \n",
      "2      007F6F5E   45FFFB88       19404  \n",
      "3      007F6F5E   45FFFB88       18725  \n",
      "4      007F6F5E   45FFFB88       17872  \n",
      "5      007F6F5E   45FFFB88       16979  \n",
      "6      007F6F5E   45FFFB88       16558  \n",
      "7      007F6F5E   45FFFB88       19555  \n",
      "8           NaN   45FFFB88       19555  \n",
      "9           NaN   45FFFB88       19272  \n",
      "10          NaN   45FFFB88       19555  \n",
      "11          NaN   45FFFB88       17417  \n",
      "12          NaN   45FFFB88       19087  \n",
      "13          NaN   45FFFB88       19555  \n",
      "14          NaN   45FFFB88       19555  \n",
      "15          NaN   45FFFB88       19192  \n",
      "16          NaN   45FFFB88       19337  \n",
      "17          NaN   45FFFB88       19555  \n",
      "18          NaN   45FFFB88       19555  \n",
      "19          NaN   45FFFB88       19048  \n",
      "20          NaN   45FFFB88       19119  \n",
      "21          NaN   45FFFB88       19555  \n",
      "22          NaN   45FFFB88       18967  \n",
      "23          NaN   45FFFB88       18665  \n",
      "24          NaN   45FFFB88       19245  \n",
      "25          NaN   45FFFB88       19555  \n",
      "26          NaN   45FFFB88       19314  \n",
      "27          NaN   45FFFB88       17569  \n",
      "28          NaN   45FFFB88       18375  \n",
      "29          NaN   45FFFB88       19476  \n",
      "...         ...        ...         ...  \n",
      "4293   04B4543D   4390334E       17446  \n",
      "4294   04B4543D   4390334E       16950  \n",
      "4295   04B4543D   4390334E       17391  \n",
      "4296   04B4543D   4390334E       19468  \n",
      "4297   04B4543D   4390334E       16029  \n",
      "4298   04B4543D   4390334E       19433  \n",
      "4299   04B4543D   4390334E       17580  \n",
      "4300   04B4543D   4390334E       17635  \n",
      "4301   04B4543D   4390334E       17695  \n",
      "4302   04B4543D   4390334E       17565  \n",
      "4303   04B4543D   4390334E       18259  \n",
      "4304   04B4543D   4390334E       18238  \n",
      "4305   04B4543D   4390334E       18670  \n",
      "4306   04B4543D   4390334E       18467  \n",
      "4307   04B4543D   4390334E       18778  \n",
      "4308   04B4543D   4390334E       18829  \n",
      "4309   04B4543D   4390334E       19555  \n",
      "4310   04B4543D   4390334E       17045  \n",
      "4311   04B4543D   4390334E       17186  \n",
      "4312   04B4543D   4390334E       16194  \n",
      "4313   04B4543D   4390334E       16879  \n",
      "4314   04B4543D   4390334E       19555  \n",
      "4315   04B4543D   4390334E       18765  \n",
      "4316   04B4543D   4390334E       18373  \n",
      "4317   04B4543D   4390334E       19555  \n",
      "4318   04B4543D   4390334E       18967  \n",
      "4319   055F1F1C   4390334E       18680  \n",
      "4320   055F1F1C   4390334E       17076  \n",
      "4321   055F1F1C   4390334E       19513  \n",
      "4322   039EACD9   4390334E       19505  \n",
      "\n",
      "[14408 rows x 11 columns]\n"
     ]
    }
   ],
   "source": [
    "print((frame))"
   ]
  },
  {
   "cell_type": "code",
   "execution_count": 6,
   "metadata": {},
   "outputs": [],
   "source": [
    "tfidf__max_df: (0.25, 0.50, 0.75)#removing words that appear too frequently in documents#importance of a word\n",
    "tfidf__ngram_range: ((1, 1), (1, 2), (1, 3))#ngram_range parameter selects how large (no. of)are the sequences of words to be considered"
   ]
  },
  {
   "cell_type": "code",
   "execution_count": 10,
   "metadata": {},
   "outputs": [
    {
     "name": "stdout",
     "output_type": "stream",
     "text": [
      "[['Co-Operative Method Development revisited']\n",
      " ['An integrated bug processing framework']\n",
      " ['Guest Editorial: Introduction to the Special Section']\n",
      " ...\n",
      " ['ACM transactions on database systems: aim and scope']\n",
      " ['The entity-relationship model—toward a unified view of data']\n",
      " ['Data Integration Using Web Services']]\n",
      "[['icse']\n",
      " ['icse']\n",
      " ['icse']\n",
      " ...\n",
      " ['vldb']\n",
      " ['vldb']\n",
      " ['vldb']]\n"
     ]
    },
    {
     "name": "stderr",
     "output_type": "stream",
     "text": [
      "C:\\Users\\aayushi srivastava\\Anaconda3\\lib\\site-packages\\ipykernel_launcher.py:2: FutureWarning: Method .as_matrix will be removed in a future version. Use .values instead.\n",
      "  \n",
      "C:\\Users\\aayushi srivastava\\Anaconda3\\lib\\site-packages\\ipykernel_launcher.py:4: FutureWarning: Method .as_matrix will be removed in a future version. Use .values instead.\n",
      "  after removing the cwd from sys.path.\n"
     ]
    }
   ],
   "source": [
    "#split the data\n",
    "data_x = frame[['title']].as_matrix()\n",
    "print(data_x)\n",
    "data_y = frame[['conference_short']].as_matrix()\n",
    "print(data_y)"
   ]
  },
  {
   "cell_type": "code",
   "execution_count": 11,
   "metadata": {},
   "outputs": [
    {
     "name": "stdout",
     "output_type": "stream",
     "text": [
      "[['icse']\n",
      " ['icse']\n",
      " ['icse']\n",
      " ...\n",
      " ['icse']\n",
      " ['icse']\n",
      " ['vldb']]\n"
     ]
    }
   ],
   "source": [
    "#split the data,leaving 1/3 out for testing\n",
    "stratified_split = StratifiedShuffleSplit(n_splits=2, test_size=0.33)\n",
    "for train_index, test_index in stratified_split.split(data_x, data_y):\n",
    "    x_train, x_test = data_x[train_index], data_x[test_index]\n",
    "    y_train, y_test = data_y[train_index], data_y[test_index]\n",
    "# transform matrix of plots into lists to pass to a TfidfVectorizer\n",
    "train_x = [x[0].strip() for x in x_train.tolist()]\n",
    "test_x = [x[0].strip() for x in x_test.tolist()]\n",
    "print(y_test)"
   ]
  },
  {
   "cell_type": "code",
   "execution_count": 12,
   "metadata": {},
   "outputs": [],
   "source": [
    "#Naive Bayes\n",
    "pipeline_NB = Pipeline([\n",
    "    ('tfidf', TfidfVectorizer(stop_words=stop_words)),\n",
    "    ('clf', OneVsRestClassifier(MultinomialNB(\n",
    "        fit_prior=True, class_prior=None))),\n",
    "])\n",
    "parameters_NB = {\n",
    "    'tfidf__max_df': (0.25, 0.5, 0.75),\n",
    "    'tfidf__ngram_range': [(1, 1), (1, 2), (1, 3)],\n",
    "    'clf__estimator__alpha': (1e-2, 1e-3)\n",
    "}"
   ]
  },
  {
   "cell_type": "code",
   "execution_count": 13,
   "metadata": {},
   "outputs": [],
   "source": [
    "#SVM\n",
    "pipeline_SVM = Pipeline(\n",
    "    [\n",
    "    ('tfidf', TfidfVectorizer(stop_words=stop_words)),\n",
    "    ('clf', OneVsRestClassifier(LinearSVC()))])\n",
    "parameters_SVM = {\n",
    "    'tfidf__max_df': (0.25, 0.5, 0.75),\n",
    "    'tfidf__ngram_range': [(1, 1), (1, 2), (1, 3)],\n",
    "    \"clf__estimator__C\": [0.01, 0.1, 1],\n",
    "    \"clf__estimator__class_weight\": ['balanced', None],\n",
    "}"
   ]
  },
  {
   "cell_type": "code",
   "execution_count": 14,
   "metadata": {},
   "outputs": [],
   "source": [
    "#Logistic Regression\n",
    "pipeline_logistic = Pipeline([\n",
    "    ('tfidf', TfidfVectorizer(stop_words=stop_words)),\n",
    "    ('clf', OneVsRestClassifier(LogisticRegression(solver='sag')))])\n",
    "parameters_logistic = {\n",
    "    'tfidf__max_df': (0.25, 0.5, 0.75),\n",
    "    'tfidf__ngram_range': [(1, 1), (1, 2), (1, 3)],\n",
    "    \"clf__estimator__C\": [0.01, 0.1, 1],\n",
    "    \"clf__estimator__class_weight\": ['balanced', None],\n",
    "}"
   ]
  },
  {
   "cell_type": "code",
   "execution_count": 15,
   "metadata": {},
   "outputs": [],
   "source": [
    "#KNN\n",
    "pipeline_KNN = Pipeline([\n",
    "    ('tfidf', TfidfVectorizer(stop_words=stop_words)),\n",
    "    ('clf', OneVsRestClassifier(KNeighborsClassifier(#onevsrest classifier fits fits one classifier per class\n",
    "        n_neighbors=5))),\n",
    "])\n",
    "parameters_KNN = {\n",
    "    'tfidf__max_df': (0.25, 0.5, 0.75),\n",
    "    'tfidf__ngram_range': [(1, 1), (1, 2), (1, 3)]\n",
    "}"
   ]
  },
  {
   "cell_type": "code",
   "execution_count": 16,
   "metadata": {},
   "outputs": [
    {
     "name": "stdout",
     "output_type": "stream",
     "text": [
      "Fitting 2 folds for each of 54 candidates, totalling 108 fits\n"
     ]
    },
    {
     "name": "stderr",
     "output_type": "stream",
     "text": [
      "[Parallel(n_jobs=2)]: Done  28 tasks      | elapsed:    7.6s\n",
      "[Parallel(n_jobs=2)]: Done 108 out of 108 | elapsed:   27.1s finished\n"
     ]
    },
    {
     "name": "stdout",
     "output_type": "stream",
     "text": [
      "Best parameters set fot SVM are:\n",
      "[('tfidf', TfidfVectorizer(analyzer='word', binary=False, decode_error='strict',\n",
      "        dtype=<class 'numpy.int64'>, encoding='utf-8', input='content',\n",
      "        lowercase=True, max_df=0.25, max_features=None, min_df=1,\n",
      "        ngram_range=(1, 3), norm='l2', preprocessor=None, smooth_idf=True,\n",
      "        stop_words={'his', 'nor', 'had', 'until', 'only', 'yours', 'too', 'me', 'themselves', 'because', 'wouldn', \"she's\", 'them', 'up', 'any', \"wasn't\", 'in', 'during', 'then', \"that'll\", 'which', \"don't\", \"couldn't\", 'itself', 'other', 'very', \"you'll\", 'to', 'and', 't', \"shouldn't\", 'am', 's', 'here', '... 'off', 'once', 'weren', 'when', \"needn't\", 'what', 'herself', 'won', 'been', 'their', 'my', 'they'},\n",
      "        strip_accents=None, sublinear_tf=False,\n",
      "        token_pattern='(?u)\\\\b\\\\w\\\\w+\\\\b', tokenizer=None, use_idf=True,\n",
      "        vocabulary=None)), ('clf', OneVsRestClassifier(estimator=LinearSVC(C=1, class_weight='balanced', dual=True, fit_intercept=True,\n",
      "     intercept_scaling=1, loss='squared_hinge', max_iter=1000,\n",
      "     multi_class='ovr', penalty='l2', random_state=None, tol=0.0001,\n",
      "     verbose=0),\n",
      "          n_jobs=1))]\n",
      "Applying best classifier on test data:\n",
      "             precision    recall  f1-score   support\n",
      "\n",
      "       icse       0.95      0.94      0.94      3328\n",
      "       vldb       0.87      0.87      0.87      1427\n",
      "\n",
      "avg / total       0.92      0.92      0.92      4755\n",
      "\n"
     ]
    },
    {
     "data": {
      "text/plain": [
       "array([[1245,  182],\n",
       "       [ 187, 3141]], dtype=int64)"
      ]
     },
     "execution_count": 16,
     "metadata": {},
     "output_type": "execute_result"
    }
   ],
   "source": [
    "#SVM (metrices,confusion matrix)\n",
    "#Grid search is an approach to \"\"\"\"\"\"parameter tuning\"\"\"\"\"\" that will methodically build and evaluate a model for each combination of \n",
    "#algorithm parameters specified in a grid\n",
    "import pprint#for human readable print\n",
    "grid_search_tune = GridSearchCV(\n",
    "    pipeline_SVM, parameters_SVM, cv=2, n_jobs=2, verbose=3)\n",
    "grid_search_tune.fit(train_x, y_train)\n",
    "\n",
    "\n",
    "print(\"Best parameters set fot SVM are:\")\n",
    "print(grid_search_tune.best_estimator_.steps)\n",
    "\n",
    "# measuring performance on test set\n",
    "print(\"Applying best classifier on test data:\")\n",
    "best_clf = grid_search_tune.best_estimator_\n",
    "predictions = best_clf.predict(test_x)\n",
    "#summarize the results of grid search\n",
    "print(classification_report(y_test, predictions))\n",
    "confusion_matrix(y_test, predictions, labels=[\"vldb\", \"icse\"])"
   ]
  },
  {
   "cell_type": "code",
   "execution_count": 17,
   "metadata": {},
   "outputs": [
    {
     "name": "stdout",
     "output_type": "stream",
     "text": [
      "Fitting 2 folds for each of 18 candidates, totalling 36 fits\n"
     ]
    },
    {
     "name": "stderr",
     "output_type": "stream",
     "text": [
      "[Parallel(n_jobs=2)]: Done  28 tasks      | elapsed:    7.8s\n",
      "[Parallel(n_jobs=2)]: Done  36 out of  36 | elapsed:   10.0s finished\n"
     ]
    },
    {
     "name": "stdout",
     "output_type": "stream",
     "text": [
      "Best parameters set:\n",
      "[('tfidf', TfidfVectorizer(analyzer='word', binary=False, decode_error='strict',\n",
      "        dtype=<class 'numpy.int64'>, encoding='utf-8', input='content',\n",
      "        lowercase=True, max_df=0.25, max_features=None, min_df=1,\n",
      "        ngram_range=(1, 2), norm='l2', preprocessor=None, smooth_idf=True,\n",
      "        stop_words={'his', 'nor', 'had', 'until', 'only', 'yours', 'too', 'me', 'themselves', 'because', 'wouldn', \"she's\", 'them', 'up', 'any', \"wasn't\", 'in', 'during', 'then', \"that'll\", 'which', \"don't\", \"couldn't\", 'itself', 'other', 'very', \"you'll\", 'to', 'and', 't', \"shouldn't\", 'am', 's', 'here', '... 'off', 'once', 'weren', 'when', \"needn't\", 'what', 'herself', 'won', 'been', 'their', 'my', 'they'},\n",
      "        strip_accents=None, sublinear_tf=False,\n",
      "        token_pattern='(?u)\\\\b\\\\w\\\\w+\\\\b', tokenizer=None, use_idf=True,\n",
      "        vocabulary=None)), ('clf', OneVsRestClassifier(estimator=MultinomialNB(alpha=0.01, class_prior=None, fit_prior=True),\n",
      "          n_jobs=1))]\n",
      "Applying best classifier on test data:\n",
      "             precision    recall  f1-score   support\n",
      "\n",
      "       icse       0.93      0.95      0.94      3328\n",
      "       vldb       0.89      0.83      0.86      1427\n",
      "\n",
      "avg / total       0.92      0.92      0.92      4755\n",
      "\n"
     ]
    },
    {
     "data": {
      "text/plain": [
       "array([[1187,  240],\n",
       "       [ 154, 3174]], dtype=int64)"
      ]
     },
     "execution_count": 17,
     "metadata": {},
     "output_type": "execute_result"
    }
   ],
   "source": [
    "#NaiveBayes(metrices,confusion matrix)\n",
    "grid_search_tune = GridSearchCV(\n",
    "    pipeline_NB\n",
    "    , parameters_NB, cv=2, n_jobs=2, verbose=3)\n",
    "grid_search_tune.fit(train_x, y_train)\n",
    "\n",
    "\n",
    "print(\"Best parameters set:\")\n",
    "print(grid_search_tune.best_estimator_.steps)\n",
    "\n",
    "# measuring performance on test set\n",
    "print(\"Applying best classifier on test data:\")\n",
    "best_clf = grid_search_tune.best_estimator_\n",
    "predictions = best_clf.predict(test_x)\n",
    "\n",
    "print(classification_report(y_test, predictions))\n",
    "confusion_matrix(y_test, predictions, labels=[\"vldb\", \"icse\"])"
   ]
  },
  {
   "cell_type": "code",
   "execution_count": 18,
   "metadata": {},
   "outputs": [
    {
     "name": "stdout",
     "output_type": "stream",
     "text": [
      "Fitting 2 folds for each of 54 candidates, totalling 108 fits\n"
     ]
    },
    {
     "name": "stderr",
     "output_type": "stream",
     "text": [
      "[Parallel(n_jobs=2)]: Done  28 tasks      | elapsed:    8.6s\n",
      "[Parallel(n_jobs=2)]: Done 108 out of 108 | elapsed:   29.8s finished\n"
     ]
    },
    {
     "name": "stdout",
     "output_type": "stream",
     "text": [
      "Best parameters set:\n",
      "[('tfidf', TfidfVectorizer(analyzer='word', binary=False, decode_error='strict',\n",
      "        dtype=<class 'numpy.int64'>, encoding='utf-8', input='content',\n",
      "        lowercase=True, max_df=0.25, max_features=None, min_df=1,\n",
      "        ngram_range=(1, 2), norm='l2', preprocessor=None, smooth_idf=True,\n",
      "        stop_words={'his', 'nor', 'had', 'until', 'only', 'yours', 'too', 'me', 'themselves', 'because', 'wouldn', \"she's\", 'them', 'up', 'any', \"wasn't\", 'in', 'during', 'then', \"that'll\", 'which', \"don't\", \"couldn't\", 'itself', 'other', 'very', \"you'll\", 'to', 'and', 't', \"shouldn't\", 'am', 's', 'here', '... 'off', 'once', 'weren', 'when', \"needn't\", 'what', 'herself', 'won', 'been', 'their', 'my', 'they'},\n",
      "        strip_accents=None, sublinear_tf=False,\n",
      "        token_pattern='(?u)\\\\b\\\\w\\\\w+\\\\b', tokenizer=None, use_idf=True,\n",
      "        vocabulary=None)), ('clf', OneVsRestClassifier(estimator=LogisticRegression(C=1, class_weight='balanced', dual=False,\n",
      "          fit_intercept=True, intercept_scaling=1, max_iter=100,\n",
      "          multi_class='ovr', n_jobs=1, penalty='l2', random_state=None,\n",
      "          solver='sag', tol=0.0001, verbose=0, warm_start=False),\n",
      "          n_jobs=1))]\n",
      "Applying best classifier on test data:\n",
      "             precision    recall  f1-score   support\n",
      "\n",
      "       icse       0.94      0.94      0.94      3328\n",
      "       vldb       0.85      0.87      0.86      1427\n",
      "\n",
      "avg / total       0.92      0.92      0.92      4755\n",
      "\n"
     ]
    },
    {
     "data": {
      "text/plain": [
       "array([[1242,  185],\n",
       "       [ 211, 3117]], dtype=int64)"
      ]
     },
     "execution_count": 18,
     "metadata": {},
     "output_type": "execute_result"
    }
   ],
   "source": [
    "#Logistic Regression(metrices,confusion matrix)\n",
    "grid_search_tune = GridSearchCV(\n",
    "    pipeline_logistic\n",
    "    , parameters_logistic, cv=2, n_jobs=2, verbose=3)\n",
    "grid_search_tune.fit(train_x, y_train)\n",
    "\n",
    "\n",
    "print(\"Best parameters set:\")\n",
    "print(grid_search_tune.best_estimator_.steps)\n",
    "\n",
    "# measuring performance on test set\n",
    "print(\"Applying best classifier on test data:\")\n",
    "best_clf = grid_search_tune.best_estimator_\n",
    "predictions = best_clf.predict(test_x)\n",
    "\n",
    "print(classification_report(y_test, predictions))\n",
    "confusion_matrix(y_test, predictions, labels=[\"vldb\", \"icse\"])\n"
   ]
  },
  {
   "cell_type": "code",
   "execution_count": 19,
   "metadata": {},
   "outputs": [
    {
     "name": "stdout",
     "output_type": "stream",
     "text": [
      "Fitting 2 folds for each of 9 candidates, totalling 18 fits\n"
     ]
    },
    {
     "name": "stderr",
     "output_type": "stream",
     "text": [
      "[Parallel(n_jobs=2)]: Done  18 out of  18 | elapsed:   17.8s finished\n"
     ]
    },
    {
     "name": "stdout",
     "output_type": "stream",
     "text": [
      "[('tfidf', TfidfVectorizer(analyzer='word', binary=False, decode_error='strict',\n",
      "        dtype=<class 'numpy.int64'>, encoding='utf-8', input='content',\n",
      "        lowercase=True, max_df=0.25, max_features=None, min_df=1,\n",
      "        ngram_range=(1, 2), norm='l2', preprocessor=None, smooth_idf=True,\n",
      "        stop_words={'his', 'nor', 'had', 'until', 'only', 'yours', 'too', 'me', 'themselves', 'because', 'wouldn', \"she's\", 'them', 'up', 'any', \"wasn't\", 'in', 'during', 'then', \"that'll\", 'which', \"don't\", \"couldn't\", 'itself', 'other', 'very', \"you'll\", 'to', 'and', 't', \"shouldn't\", 'am', 's', 'here', '... 'off', 'once', 'weren', 'when', \"needn't\", 'what', 'herself', 'won', 'been', 'their', 'my', 'they'},\n",
      "        strip_accents=None, sublinear_tf=False,\n",
      "        token_pattern='(?u)\\\\b\\\\w\\\\w+\\\\b', tokenizer=None, use_idf=True,\n",
      "        vocabulary=None)), ('clf', OneVsRestClassifier(estimator=KNeighborsClassifier(algorithm='auto', leaf_size=30, metric='minkowski',\n",
      "           metric_params=None, n_jobs=1, n_neighbors=5, p=2,\n",
      "           weights='uniform'),\n",
      "          n_jobs=1))]\n",
      "             precision    recall  f1-score   support\n",
      "\n",
      "       icse       0.91      0.93      0.92      3328\n",
      "       vldb       0.82      0.79      0.81      1427\n",
      "\n",
      "avg / total       0.89      0.89      0.89      4755\n",
      "\n"
     ]
    },
    {
     "data": {
      "text/plain": [
       "array([[1134,  293],\n",
       "       [ 242, 3086]], dtype=int64)"
      ]
     },
     "execution_count": 19,
     "metadata": {},
     "output_type": "execute_result"
    }
   ],
   "source": [
    "\n",
    "#knn\n",
    "grid_search_tune = GridSearchCV(\n",
    "    pipeline_KNN\n",
    "    , parameters_KNN, cv=2, n_jobs=2, verbose=3)\n",
    "grid_search_tune.fit(train_x, y_train)\n",
    "\n",
    "print(grid_search_tune.best_estimator_.steps)\n",
    "\n",
    "# measuring performance on test set\n",
    "best_clf = grid_search_tune.best_estimator_\n",
    "predictions = best_clf.predict(test_x)\n",
    "\n",
    "print(classification_report(y_test, predictions))\n",
    "\n",
    "confusion_matrix(y_test, predictions, labels=[\"vldb\", \"icse\"])\n",
    "confusion_matrix(y_test, predictions, labels=[\"vldb\", \"icse\"])"
   ]
  },
  {
   "cell_type": "code",
   "execution_count": 20,
   "metadata": {},
   "outputs": [],
   "source": [
    "pipeline_tf = Pipeline([('tfidf', TfidfVectorizer(stop_words=stop_words))])\n",
    "parameters_logistic = {\n",
    "    'tfidf__max_df': (0.25, 0.5, 0.75),\n",
    "    'tfidf__ngram_range': [(1, 1), (1, 2), (1, 3)],\n",
    "}"
   ]
  },
  {
   "cell_type": "code",
   "execution_count": 21,
   "metadata": {},
   "outputs": [
    {
     "name": "stdout",
     "output_type": "stream",
     "text": [
      "[[-0.04017274 -0.02759628]\n",
      " [-0.03108792 -0.02826177]\n",
      " [-0.04589986 -0.04064313]\n",
      " ...\n",
      " [ 0.1049254  -0.01810917]\n",
      " [-0.04591903 -0.00261881]\n",
      " [-0.08542339  0.14885142]]\n"
     ]
    },
    {
     "data": {
      "image/png": "[encoded data removed]",
      "text/plain": [
       "<Figure size 432x288 with 1 Axes>"
      ]
     },
     "metadata": {
      "needs_background": "light"
     },
     "output_type": "display_data"
    },
    {
     "data": {
      "image/png": "[encoded data removed]",
      "text/plain": [
       "<Figure size 432x288 with 1 Axes>"
      ]
     },
     "metadata": {
      "needs_background": "light"
     },
     "output_type": "display_data"
    }
   ],
   "source": [
    "num_clusters = 3\n",
    "num_seeds = 10\n",
    "max_iterations = 300\n",
    "labels_color_map = {\n",
    "    0: '#20b2aa', 1: '#ff7373', 2: '#ffe4e1'}\n",
    "pca_num_components = 2\n",
    "tsne_num_components = 2\n",
    "\n",
    "# texts_list = some array of strings for which TF-IDF is being computed\n",
    "# calculate tf-idf of texts\n",
    "# create k-means model with custom config\n",
    "x_train_corrected = [\" \".join(x) for x in x_train]\n",
    "\n",
    "vectorizer=TfidfVectorizer(min_df=1,max_df=0.5,stop_words='english', decode_error='ignore')\n",
    "tf_idf_matrix = vectorizer.fit_transform(x_train_corrected)\n",
    "clustering_model = KMeans(\n",
    "    n_clusters=num_clusters,\n",
    "    max_iter=max_iterations,\n",
    "    precompute_distances=\"auto\",\n",
    "    n_jobs=-1\n",
    ")\n",
    "\n",
    "\n",
    "\n",
    "labels = clustering_model.fit_predict(tf_idf_matrix)\n",
    "# print labels\n",
    "\n",
    "X = tf_idf_matrix.todense()\n",
    "\n",
    "# ----------------------------------------------------------------------------------------------------------------------\n",
    "\n",
    "reduced_data = PCA(n_components=pca_num_components).fit_transform(X)\n",
    "print(reduced_data)\n",
    "\n",
    "fig, ax = plt.subplots()\n",
    "for index, instance in enumerate(reduced_data):\n",
    "    # print instance, index, labels[index]\n",
    "    pca_comp_1, pca_comp_2 = reduced_data[index]\n",
    "    color = labels_color_map[labels[index]]\n",
    "    ax.scatter(pca_comp_1, pca_comp_2, c=color)\n",
    "plt.show()\n",
    "\n",
    "\n",
    "\n",
    "# t-SNE plot\n",
    "embeddings = TSNE(n_components=tsne_num_components)\n",
    "Y = embeddings.fit_transform(X)\n",
    "plt.scatter(Y[:, 0], Y[:, 1], cmap=plt.cm.Spectral)\n",
    "plt.show()"
   ]
  },
  {
   "cell_type": "code",
   "execution_count": null,
   "metadata": {},
   "outputs": [],
   "source": []
  }
 ],
 "metadata": {
  "kernelspec": {
   "display_name": "Python 3",
   "language": "python",
   "name": "python3"
  },
  "language_info": {
   "codemirror_mode": {
    "name": "ipython",
    "version": 3
   },
   "file_extension": ".py",
   "mimetype": "text/x-python",
   "name": "python",
   "nbconvert_exporter": "python",
   "pygments_lexer": "ipython3",
   "version": "3.7.0"
  }
 },
 "nbformat": 4,
 "nbformat_minor": 2
}
